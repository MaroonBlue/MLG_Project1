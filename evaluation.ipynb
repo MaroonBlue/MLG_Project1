{
 "cells": [
  {
   "cell_type": "code",
   "execution_count": 9,
   "metadata": {},
   "outputs": [],
   "source": [
    "from src.mock_graph import get_mock_wheel_graph, get_mock_fully_connected_graph, get_mock_random_graph\n",
    "from src.graph_from_data import get_facebook_dataframe_graph\n",
    "from src.fastgraph import FastGraph, FastGraphSettings"
   ]
  },
  {
   "cell_type": "code",
   "execution_count": 2,
   "metadata": {},
   "outputs": [],
   "source": [
    "graph = get_facebook_dataframe_graph(cut = -1)\n",
    "\n",
    "settings = FastGraphSettings(\n",
    "    render = False, \n",
    "    render_isomorphic_graphs = False,\n",
    "    render_auto_walk_delay_seconds = 0.0001,\n",
    "    render_x_isomorphisms_per_column = 6, \n",
    "    subgraph_size = 5,\n",
    "    letters_per_sentence = 50,\n",
    "    sentences_to_generate = 1000,\n",
    "    spacebar_probability = 0.1,\n",
    "    end_of_sentence_symbol = '\\n'\n",
    ")"
   ]
  },
  {
   "cell_type": "code",
   "execution_count": null,
   "metadata": {},
   "outputs": [
    {
     "name": "stderr",
     "output_type": "stream",
     "text": [
      "  0%|          | 0/1000 [00:00<?, ?it/s]"
     ]
    },
    {
     "name": "stderr",
     "output_type": "stream",
     "text": [
      "100%|██████████| 1000/1000 [00:54<00:00, 18.22it/s]\n"
     ]
    }
   ],
   "source": [
    "fb_fastgraph = FastGraph(\n",
    "    graph,\n",
    "    settings,\n",
    "    \"facebook_dataframe_graph\"\n",
    ")"
   ]
  },
  {
   "cell_type": "code",
   "execution_count": 11,
   "metadata": {},
   "outputs": [
    {
     "ename": "TypeError",
     "evalue": "fit_fasttext_model() missing 1 required positional argument: 'file'",
     "output_type": "error",
     "traceback": [
      "\u001b[1;31m---------------------------------------------------------------------------\u001b[0m",
      "\u001b[1;31mTypeError\u001b[0m                                 Traceback (most recent call last)",
      "Cell \u001b[1;32mIn[11], line 1\u001b[0m\n\u001b[1;32m----> 1\u001b[0m fb_fastgraph\u001b[39m.\u001b[39;49mfit_fasttext_model()\n",
      "\u001b[1;31mTypeError\u001b[0m: fit_fasttext_model() missing 1 required positional argument: 'file'"
     ]
    }
   ],
   "source": [
    "fb_fastgraph.fit_fasttext_model()"
   ]
  }
 ],
 "metadata": {
  "kernelspec": {
   "display_name": "base",
   "language": "python",
   "name": "python3"
  },
  "language_info": {
   "codemirror_mode": {
    "name": "ipython",
    "version": 3
   },
   "file_extension": ".py",
   "mimetype": "text/x-python",
   "name": "python",
   "nbconvert_exporter": "python",
   "pygments_lexer": "ipython3",
   "version": "3.9.0"
  },
  "orig_nbformat": 4
 },
 "nbformat": 4,
 "nbformat_minor": 2
}
